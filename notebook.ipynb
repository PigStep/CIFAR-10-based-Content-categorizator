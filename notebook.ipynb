{
  "nbformat": 4,
  "nbformat_minor": 0,
  "metadata": {
    "colab": {
      "provenance": [],
      "authorship_tag": "ABX9TyN7wannqJHTm8Y+Wfl2UaVS",
      "include_colab_link": true
    },
    "kernelspec": {
      "name": "python3",
      "display_name": "Python 3"
    },
    "language_info": {
      "name": "python"
    }
  },
  "cells": [
    {
      "cell_type": "markdown",
      "metadata": {
        "id": "view-in-github",
        "colab_type": "text"
      },
      "source": [
        "<a href=\"https://colab.research.google.com/github/PigStep/CIFAR-10-based-Content-categorizator/blob/main/notebook.ipynb\" target=\"_parent\"><img src=\"https://colab.research.google.com/assets/colab-badge.svg\" alt=\"Open In Colab\"/></a>"
      ]
    },
    {
      "cell_type": "markdown",
      "source": [
        "# What is this notebook about\n",
        "This notebook tracks experiments, code and data manipulation for model"
      ],
      "metadata": {
        "id": "9CHevmEJiZ9-"
      }
    },
    {
      "cell_type": "code",
      "source": [
        "import torchvision\n",
        "import torch\n",
        "from torchvision.transforms import transforms"
      ],
      "metadata": {
        "id": "As63NEObFJQQ"
      },
      "execution_count": 14,
      "outputs": []
    },
    {
      "cell_type": "code",
      "source": [
        "batch_size = 4\n",
        "\n",
        "transform = transforms.ToTensor()\n",
        "\n",
        "#Getting CIFAR-10 dataset with batches\n",
        "trainset = torchvision.datasets.CIFAR10(root=\"/content\",train=True,transform=transform,download=True)\n",
        "trainloader = torch.utils.data.DataLoader(dataset = trainset,batch_size=batch_size,shuffle=True)\n",
        "\n",
        "testset = torchvision.datasets.CIFAR10(root=\"/content\",train=False,transform=transform,download=True)\n",
        "testloader = torch.utils.data.DataLoader(dataset = testset,batch_size=batch_size,shuffle=True)"
      ],
      "metadata": {
        "id": "1LYceYTnBcXV"
      },
      "execution_count": 12,
      "outputs": []
    },
    {
      "cell_type": "code",
      "source": [
        "trainset"
      ],
      "metadata": {
        "colab": {
          "base_uri": "https://localhost:8080/"
        },
        "id": "VLb9ulvnD4j8",
        "outputId": "7d5ba264-7e9f-4464-a3b4-9e03c183ce31"
      },
      "execution_count": 13,
      "outputs": [
        {
          "output_type": "execute_result",
          "data": {
            "text/plain": [
              "Dataset CIFAR10\n",
              "    Number of datapoints: 50000\n",
              "    Root location: /content\n",
              "    Split: Train\n",
              "    StandardTransform\n",
              "Transform: ToTensor()"
            ]
          },
          "metadata": {},
          "execution_count": 13
        }
      ]
    },
    {
      "cell_type": "markdown",
      "source": [
        "# Baseline model: self-coded CNN"
      ],
      "metadata": {
        "id": "8jqZi3zlGNCM"
      }
    },
    {
      "cell_type": "code",
      "source": [
        "import numpy as np\n",
        "class baseCNN:\n",
        "\n",
        "  def convolutinal_layer(image,filters,stride=1):\n",
        "    \"\"\"\n",
        "    params:\n",
        "\n",
        "      `image` - image as numpy array\n",
        "      `filter` - collection of filters as numpy array\n",
        "      `stride` - stride for filter window\n",
        "    \"\"\"\n",
        "    (image_H,image_W,image_channels) = image.shape\n",
        "    (num_filters, filter_H, filter_W, filter_channels) = filters.shape\n",
        "\n",
        "    out_H = (image_H - filter_H) // stride +1\n",
        "    out_W = (image_W - filter_W) // stride +1\n",
        "    feature_map = np.zeros((out_H,out_W,num_filters))\n",
        "\n",
        "    for y in range(0,image_H - filter_H + 1, stride):\n",
        "      for x in range(0,image_W - filter_W + 1, stride):\n",
        "        # Get filter slice of image\n",
        "        filter_slice = image[y:y+filter_H, x:x+filter_W, :]\n",
        "\n",
        "        for i, filter in enumerate(filters):\n",
        "          # Get matrix features for every channels\n",
        "          filter_matrix_channels = np.sum(filter * filter_slice)\n",
        "          # Save filter matrix features at coordinates position\n",
        "          feature_map[y // stride, x // stride, i] = filter_matrix_channels\n",
        "\n",
        "    return feature_map\n"
      ],
      "metadata": {
        "id": "OBZlBd3gHj1S"
      },
      "execution_count": 16,
      "outputs": []
    }
  ]
}