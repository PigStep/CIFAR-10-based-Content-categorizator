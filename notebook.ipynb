{
  "nbformat": 4,
  "nbformat_minor": 0,
  "metadata": {
    "colab": {
      "provenance": [],
      "include_colab_link": true
    },
    "kernelspec": {
      "name": "python3",
      "display_name": "Python 3"
    },
    "language_info": {
      "name": "python"
    }
  },
  "cells": [
    {
      "cell_type": "markdown",
      "metadata": {
        "id": "view-in-github",
        "colab_type": "text"
      },
      "source": [
        "<a href=\"https://colab.research.google.com/github/PigStep/CIFAR-10-based-Content-categorizator/blob/main/notebook.ipynb\" target=\"_parent\"><img src=\"https://colab.research.google.com/assets/colab-badge.svg\" alt=\"Open In Colab\"/></a>"
      ]
    },
    {
      "cell_type": "markdown",
      "source": [
        "# What is this notebook about\n",
        "This notebook tracks experiments, code and data manipulation for model"
      ],
      "metadata": {
        "id": "9CHevmEJiZ9-"
      }
    },
    {
      "cell_type": "markdown",
      "source": [
        "# Data loading"
      ],
      "metadata": {
        "id": "EXPzWZmRYxYu"
      }
    },
    {
      "cell_type": "code",
      "source": [
        "import torchvision\n",
        "import torch\n",
        "from torchvision.transforms import transforms"
      ],
      "metadata": {
        "id": "As63NEObFJQQ"
      },
      "execution_count": 1,
      "outputs": []
    },
    {
      "cell_type": "code",
      "source": [
        "batch_size = 256\n",
        "\n",
        "transform = transforms.ToTensor()\n",
        "\n",
        "# Getting CIFAR-10 dataset with batches\n",
        "trainset = torchvision.datasets.CIFAR10(root=\"/content\",train=True,transform=transform,download=True)\n",
        "trainloader = torch.utils.data.DataLoader(dataset = trainset,batch_size=batch_size,shuffle=True)"
      ],
      "metadata": {
        "id": "1LYceYTnBcXV",
        "colab": {
          "base_uri": "https://localhost:8080/"
        },
        "outputId": "b196917a-befd-4aa1-d786-c7fe58fceec1"
      },
      "execution_count": 2,
      "outputs": [
        {
          "output_type": "stream",
          "name": "stderr",
          "text": [
            "100%|██████████| 170M/170M [00:10<00:00, 16.0MB/s]\n"
          ]
        }
      ]
    },
    {
      "cell_type": "code",
      "source": [
        "image_tensor, label = trainset[0]\n",
        "\n",
        "print(f\"Shape of tensor: {image_tensor.shape}\")\n",
        "print(f\"Label: {label}\")"
      ],
      "metadata": {
        "colab": {
          "base_uri": "https://localhost:8080/"
        },
        "id": "VLb9ulvnD4j8",
        "outputId": "712e6106-5dc4-4828-d9f6-3882673a31b1"
      },
      "execution_count": 3,
      "outputs": [
        {
          "output_type": "stream",
          "name": "stdout",
          "text": [
            "Shape of tensor: torch.Size([3, 32, 32])\n",
            "Label: 6\n"
          ]
        }
      ]
    },
    {
      "cell_type": "markdown",
      "source": [
        "## Data normalization"
      ],
      "metadata": {
        "id": "r1s1ca5GZV8m"
      }
    },
    {
      "cell_type": "markdown",
      "source": [
        "This notebook uses torch's `ToTensor() + Normalize()` functions. Firstly we need to get some statistics before Normalization"
      ],
      "metadata": {
        "id": "9GfhCaPJZVIm"
      }
    },
    {
      "cell_type": "code",
      "source": [
        "channels_sum, channels_squared_sum, num_pixels = 0,0,0\n",
        "\n",
        "for images, _ in trainloader:\n",
        "  # images: [batch_size, channels, height, width]\n",
        "\n",
        "  channels_sum += torch.sum(images, dim=[0,2,3])\n",
        "  channels_squared_sum += torch.sum(images**2, dim = [0,2,3])\n",
        "  num_pixels += images.numel()\n",
        "\n",
        "mean = channels_sum / num_pixels\n",
        "# std = sqrt(E[x^2] - (E[x])^2)\n",
        "std = torch.sqrt((channels_squared_sum / num_pixels) - mean**2)\n",
        "\n",
        "print(f\"Channels means: {mean}\")\n",
        "print(f\"Channels std: {std}\")"
      ],
      "metadata": {
        "id": "Aw0RMqDyZZCo",
        "outputId": "9fbcdf57-394a-456d-9865-28e3157464c0",
        "colab": {
          "base_uri": "https://localhost:8080/"
        }
      },
      "execution_count": 4,
      "outputs": [
        {
          "output_type": "stream",
          "name": "stdout",
          "text": [
            "Channels means: tensor([0.1638, 0.1607, 0.1488])\n",
            "Channels std: tensor([0.2720, 0.2673, 0.2591])\n"
          ]
        }
      ]
    },
    {
      "cell_type": "code",
      "source": [
        "transform = transforms.Compose([\n",
        "    transforms.ToTensor(),\n",
        "    transforms.Normalize(mean=mean,std=std)\n",
        "])\n",
        "\n",
        "# Getting datasets with normalization\n",
        "trainset = torchvision.datasets.CIFAR10(root=\"/content\",train=True,transform=transform,download=True)\n",
        "\n",
        "testset = torchvision.datasets.CIFAR10(root=\"/content\",train=False,transform=transform,download=True)\n",
        "testloader = torch.utils.data.DataLoader(dataset = testset,batch_size=batch_size,shuffle=True)"
      ],
      "metadata": {
        "id": "DxMfpMqNeZxD"
      },
      "execution_count": 5,
      "outputs": []
    },
    {
      "cell_type": "markdown",
      "source": [
        "# Baseline model: self constructed pytorch CNN"
      ],
      "metadata": {
        "id": "8jqZi3zlGNCM"
      }
    },
    {
      "cell_type": "code",
      "source": [
        "import torch.nn as nn\n",
        "import torch.nn.functional as F\n",
        "\n",
        "class baseCNN(nn.Module):\n",
        "  __init__(self):\n",
        "    super().__init__()\n",
        "\n",
        "    # 32x32 3 channels\n",
        "    self.conv1 = nn.Conv2d(3, 32, 3)\n",
        "    # 30x30 32 channels\n",
        "    self.pool1 = nn.MaxPool2d(2,2)\n",
        "    # 15x15 32 channels\n",
        "    self.conv2 = nn.Conv2d(32, 64, 3)\n",
        "    # 13x13 64 channels\n",
        "    self.pool2 = nn.MaxPool2d(2,2)\n",
        "    #6х6 64 channels\n",
        "    self.fc = nn.Linear(2304,10)\n",
        "\n",
        "  def forward(self, x):\n",
        "    x = self.conv1(x)\n",
        "    x = F.relu(x)\n",
        "    x = self.pool1(x)\n",
        "\n",
        "    x = self.conv2(x)\n",
        "    x = F.relu(x)\n",
        "    x = self.pool2(x)\n",
        "\n",
        "    x = torch.flatten(x,1)\n",
        "    x = self.fc(x)\n",
        "\n",
        "    return x\n",
        "\n",
        "def train(baseCNN, train_loader, lr = 0.001, epochs = 100, thread_err = 0.1):\n",
        "    loss_fn = nn.CrossEntropyLoss()\n",
        "    optimizer = torch.optim.Adam(baseCNN.parameters(), lr=lr)\n",
        "    loss_list = []\n",
        "\n",
        "    for epoch in range(epochs):\n",
        "      for image, label in train_loader:\n",
        "        optimizer.zero_grad()\n",
        "\n",
        "        prediction = baseCNN.forward(image)\n",
        "        error = loss_fn(prediction, label)\n",
        "\n",
        "        loss_list.append(error)\n",
        "        if(epoch % 10 == 0):\n",
        "          print(f\"Epoch: {epoch}, Error: {error}\")\n",
        "\n",
        "        if(error < thread_err):\n",
        "          return\n",
        "\n",
        "        error.backward()\n",
        "\n",
        "        optimizer.step()\n"
      ],
      "metadata": {
        "id": "OBZlBd3gHj1S"
      },
      "execution_count": 12,
      "outputs": []
    },
    {
      "cell_type": "code",
      "source": [],
      "metadata": {
        "id": "1HG57SEMmaUR"
      },
      "execution_count": null,
      "outputs": []
    }
  ]
}