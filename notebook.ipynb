{
  "nbformat": 4,
  "nbformat_minor": 0,
  "metadata": {
    "colab": {
      "provenance": [],
      "authorship_tag": "ABX9TyPBOS3Dv7BwSXeZRSO1IAWg",
      "include_colab_link": true
    },
    "kernelspec": {
      "name": "python3",
      "display_name": "Python 3"
    },
    "language_info": {
      "name": "python"
    }
  },
  "cells": [
    {
      "cell_type": "markdown",
      "metadata": {
        "id": "view-in-github",
        "colab_type": "text"
      },
      "source": [
        "<a href=\"https://colab.research.google.com/github/PigStep/CIFAR-10-based-Content-categorizator/blob/main/notebook.ipynb\" target=\"_parent\"><img src=\"https://colab.research.google.com/assets/colab-badge.svg\" alt=\"Open In Colab\"/></a>"
      ]
    },
    {
      "cell_type": "markdown",
      "source": [
        "# What is this notebook about\n",
        "This notebook tracks experiments, code and data manipulation for model"
      ],
      "metadata": {
        "id": "9CHevmEJiZ9-"
      }
    },
    {
      "cell_type": "code",
      "source": [
        "import torchvision\n",
        "import torch\n",
        "from torchvision.transforms import transforms"
      ],
      "metadata": {
        "id": "As63NEObFJQQ"
      },
      "execution_count": null,
      "outputs": []
    },
    {
      "cell_type": "code",
      "source": [
        "batch_size = 4\n",
        "\n",
        "transform = transforms.ToTensor()\n",
        "\n",
        "#Getting CIFAR-10 dataset with batches\n",
        "trainset = torchvision.datasets.CIFAR10(root=\"/content\",train=True,transform=transform,download=True)\n",
        "trainloader = torch.utils.data.DataLoader(dataset = trainset,batch_size=batch_size,shuffle=True)\n",
        "\n",
        "testset = torchvision.datasets.CIFAR10(root=\"/content\",train=False,transform=transform,download=True)\n",
        "testloader = torch.utils.data.DataLoader(dataset = testset,batch_size=batch_size,shuffle=True)"
      ],
      "metadata": {
        "id": "1LYceYTnBcXV"
      },
      "execution_count": null,
      "outputs": []
    },
    {
      "cell_type": "code",
      "source": [
        "trainset"
      ],
      "metadata": {
        "colab": {
          "base_uri": "https://localhost:8080/"
        },
        "id": "VLb9ulvnD4j8",
        "outputId": "7d5ba264-7e9f-4464-a3b4-9e03c183ce31"
      },
      "execution_count": null,
      "outputs": [
        {
          "output_type": "execute_result",
          "data": {
            "text/plain": [
              "Dataset CIFAR10\n",
              "    Number of datapoints: 50000\n",
              "    Root location: /content\n",
              "    Split: Train\n",
              "    StandardTransform\n",
              "Transform: ToTensor()"
            ]
          },
          "metadata": {},
          "execution_count": 13
        }
      ]
    },
    {
      "cell_type": "markdown",
      "source": [
        "# Baseline model: self-coded CNN"
      ],
      "metadata": {
        "id": "8jqZi3zlGNCM"
      }
    },
    {
      "cell_type": "code",
      "source": [
        "import numpy as np\n",
        "class baseCNN:\n",
        "  def __init__(self):\n",
        "    pass\n",
        "\n",
        "  def convolutinal_layer(image,filters,stride=1):\n",
        "    \"\"\"\n",
        "    Convolves image with filters.\n",
        "    params:\n",
        "      `image` - image as numpy array\n",
        "      `filter` - collection of filters as numpy array\n",
        "      `stride` - stride for filter window\n",
        "    \"\"\"\n",
        "    (image_H,image_W,image_channels) = image.shape\n",
        "    (num_filters, filter_H, filter_W, filter_channels) = filters.shape\n",
        "\n",
        "    out_H = (image_H - filter_H) // stride +1\n",
        "    out_W = (image_W - filter_W) // stride +1\n",
        "    feature_map = np.zeros((out_H,out_W,num_filters))\n",
        "\n",
        "    for y in range(0,image_H - filter_H + 1, stride):\n",
        "      for x in range(0,image_W - filter_W + 1, stride):\n",
        "        # Get filter slice of image\n",
        "        filter_slice = image[y:y+filter_H, x:x+filter_W, :]\n",
        "\n",
        "        for i, filter in enumerate(filters):\n",
        "          # Get matrix features for every channels\n",
        "          filter_matrix_channels = np.sum(filter * filter_slice)\n",
        "          # Save filter matrix features at coordinates position\n",
        "          feature_map[y // stride, x // stride, i] = filter_matrix_channels\n",
        "\n",
        "    return feature_map\n",
        "\n",
        "    def pooling_layer(features_maps,pooling_size=2,stride=2):\n",
        "      \"\"\"\n",
        "      Max pooling images\n",
        "\n",
        "      params:\n",
        "        `feature_maps` - maps of the features\n",
        "        `pooling_size` - size of the window\n",
        "        `stride` - stride of the window\n",
        "      \"\"\"\n",
        "      (feature_map_H,feature_map_W,num_filters) = features_maps.shape\n",
        "\n",
        "      out_H = (feature_map_H - pooling_size) // stride +1\n",
        "      out_W = (feature_map_W - pooling_size) // stride +1\n",
        "\n",
        "      pooling_map = np.zeros((out_H,out_W,num_filters))\n",
        "\n",
        "      for y in range(0,(feature_map_H - pooling_size)//stride +1, stride):\n",
        "        for x in range(0,(featuremap_W - pooling_size)//stride +1, stride):\n",
        "          for i in range(num_filters):\n",
        "            feature_window = feature_map[y:y+pooling_size,x:x+pooling_size, i]\n",
        "            pooling_map[y // stride,x // stride,i] = np.max(feature_window)\n",
        "\n",
        "      return pooling_map\n",
        "\n",
        "    def fully_connected_layer(pooling_map,weights,bias):\n",
        "      \"\"\"\n",
        "      Fully connected layer for weighted sum\n",
        "\n",
        "      params:\n",
        "        `pooling_map` - map of the features\n",
        "        `weights` - weights of the layer\n",
        "        `bias` - bias of the layer\n",
        "      \"\"\"\n",
        "      vector = pooling_map.flatten()\n",
        "      return np.dot(vector,weights) + bias\n",
        "\n",
        "      def softmax(x):\n",
        "        return np.exp(x) / np.sum(np.exp(x))\n",
        "\n",
        "      def cross_entropy(y_pred,y_true):\n",
        "        return - np.sum(y_true * np.log(y_pred))\n",
        "\n",
        "      def dense_backprop(dL_dz, x, weights, bias, learning_rate = 0.1):\n",
        "        \"\"\"\n",
        "        Backpropagation for dense layer\n",
        "        params:\n",
        "          `dL_dz` - derivative of the loss with respect to the output of the layer\n",
        "          `x` - input\n",
        "          `weights` - weights of the layer\n",
        "          `bias` - bias of the layer\n",
        "          `learning_rate` - learning rate for gradient descent\n",
        "        \"\"\"\n",
        "\n",
        "        dL_dw = dL_dz * x\n",
        "        dL_db = dL_dz\n",
        "        dL_dx = dL_dz * weights\n",
        "\n",
        "        weights = weights - learning_rate * dL_dw\n",
        "        bias = bias - learning_rate * dL_db\n",
        "\n",
        "        return weights, bias, dL_dx\n",
        "\n",
        "      def pooling_backprob(dl_dp,x,pooling_size=2,stride=2):\n",
        "        \"\"\"\n",
        "        Backpropagation for pooling layer\n",
        "        params:\n",
        "          `dl_dp` - derivative of the loss with respect to the output of the layer\n",
        "          `x` - input to pooling layer\n",
        "          `pooling_size` - size of the window\n",
        "          `stride` - stride of the window\n",
        "        \"\"\"\n",
        "        (in_H, in_W, in_C) = x.shape\n",
        "        dL_dx = np.zeros(x.shape)\n",
        "\n",
        "        for y in range(0, (in_H - pooling_size) // stride +1, stride):\n",
        "          for x in range(0, (in_W - pooling_size) // stride +1, stride):\n",
        "            for c in range(in_C):\n",
        "              feature_window = x[y:y+pooling_size, x:x+pooling_size, c]\n",
        "\n",
        "              max_index = np.argmax(feature_window)\n",
        "              (max_y,max_x) = max_index // pooling_size, max_index % pooling_size\n",
        "\n",
        "              # Fill previous masked points by derrivative\n",
        "              dL_dx[y + max_y, x + max_x, c] = dl_dp[y // stride, x // stride, c]\n",
        "\n",
        "        return dL_dx"
      ],
      "metadata": {
        "id": "OBZlBd3gHj1S"
      },
      "execution_count": null,
      "outputs": []
    }
  ]
}