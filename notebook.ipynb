{
  "nbformat": 4,
  "nbformat_minor": 0,
  "metadata": {
    "colab": {
      "provenance": [],
      "authorship_tag": "ABX9TyPGkQ9AISFB8SsXecsqrg0G",
      "include_colab_link": true
    },
    "kernelspec": {
      "name": "python3",
      "display_name": "Python 3"
    },
    "language_info": {
      "name": "python"
    }
  },
  "cells": [
    {
      "cell_type": "markdown",
      "metadata": {
        "id": "view-in-github",
        "colab_type": "text"
      },
      "source": [
        "<a href=\"https://colab.research.google.com/github/PigStep/CIFAR-10-based-Content-categorizator/blob/main/notebook.ipynb\" target=\"_parent\"><img src=\"https://colab.research.google.com/assets/colab-badge.svg\" alt=\"Open In Colab\"/></a>"
      ]
    },
    {
      "cell_type": "markdown",
      "source": [
        "# What is this notebook about\n",
        "This notebook tracks experiments, code and data manipulation for model"
      ],
      "metadata": {
        "id": "9CHevmEJiZ9-"
      }
    },
    {
      "cell_type": "markdown",
      "source": [
        "# Data loading"
      ],
      "metadata": {
        "id": "EXPzWZmRYxYu"
      }
    },
    {
      "cell_type": "code",
      "source": [
        "import torchvision\n",
        "import torch\n",
        "from torchvision.transforms import transforms"
      ],
      "metadata": {
        "id": "As63NEObFJQQ"
      },
      "execution_count": 2,
      "outputs": []
    },
    {
      "cell_type": "code",
      "source": [
        "batch_size = 256\n",
        "\n",
        "transform = transforms.ToTensor()\n",
        "\n",
        "# Getting CIFAR-10 dataset with batches\n",
        "trainset = torchvision.datasets.CIFAR10(root=\"/content\",train=True,transform=transform,download=True)\n",
        "trainloader = torch.utils.data.DataLoader(dataset = trainset,batch_size=batch_size,shuffle=True)\n",
        "\n",
        "testset = torchvision.datasets.CIFAR10(root=\"/content\",train=False,transform=transform,download=True)\n",
        "testloader = torch.utils.data.DataLoader(dataset = testset,batch_size=batch_size,shuffle=True)"
      ],
      "metadata": {
        "id": "1LYceYTnBcXV"
      },
      "execution_count": 13,
      "outputs": []
    },
    {
      "cell_type": "code",
      "source": [
        "image_tensor, label = trainset[0]\n",
        "\n",
        "print(f\"Shape of tensor: {image_tensor.shape}\")\n",
        "print(f\"Label: {label}\")"
      ],
      "metadata": {
        "colab": {
          "base_uri": "https://localhost:8080/"
        },
        "id": "VLb9ulvnD4j8",
        "outputId": "4b84477c-9ac1-46f2-80f6-a4fb313b1b96"
      },
      "execution_count": 14,
      "outputs": [
        {
          "output_type": "stream",
          "name": "stdout",
          "text": [
            "Shape of tensor: torch.Size([3, 32, 32])\n",
            "Label: 6\n"
          ]
        }
      ]
    },
    {
      "cell_type": "markdown",
      "source": [
        "## Data normalization"
      ],
      "metadata": {
        "id": "r1s1ca5GZV8m"
      }
    },
    {
      "cell_type": "markdown",
      "source": [
        "This notebook uses torch's `ToTensor() + Normalize()` functions. Firstly we need to get some statistics before Normalization"
      ],
      "metadata": {
        "id": "9GfhCaPJZVIm"
      }
    },
    {
      "cell_type": "code",
      "source": [
        "channels_sum, channels_squared_sum, num_pixels = 0,0,0\n",
        "\n",
        "for images, _ in trainloader:\n",
        "  # images: [batch_size, channels, height, width]\n",
        "\n",
        "  channels_sum += torch.sum(images, dim=[0,2,3])\n",
        "  channels_squared_sum += torch.sum(images**2, dim = [0,2,3])\n",
        "  num_pixels += images.numel()\n",
        "\n",
        "mean = channels_sum / num_pixels\n",
        "# std = sqrt(E[x^2] - (E[x])^2)\n",
        "std = torch.sqrt((channels_squared_sum / num_pixels) - mean**2)\n",
        "\n",
        "print(f\"Channels means: {mean}\")\n",
        "print(f\"Channels std: {std}\")"
      ],
      "metadata": {
        "id": "Aw0RMqDyZZCo",
        "outputId": "dddc6ec9-f816-4c1d-8bdb-de3bb511ff57",
        "colab": {
          "base_uri": "https://localhost:8080/"
        }
      },
      "execution_count": 30,
      "outputs": [
        {
          "output_type": "stream",
          "name": "stdout",
          "text": [
            "Channels means: tensor([0.1638, 0.1607, 0.1488])\n",
            "Channels std: tensor([0.2720, 0.2673, 0.2591])\n"
          ]
        }
      ]
    },
    {
      "cell_type": "code",
      "source": [
        "transform = transforms.Compose(\n",
        "    transforms.ToTensor(),\n",
        "    transforms.Normalize(mean=mean,std=std)\n",
        ")"
      ],
      "metadata": {
        "id": "DxMfpMqNeZxD",
        "outputId": "9b2e904f-e001-4032-a9c1-7dcbf7e3b6ef",
        "colab": {
          "base_uri": "https://localhost:8080/",
          "height": 106
        }
      },
      "execution_count": 35,
      "outputs": [
        {
          "output_type": "error",
          "ename": "SyntaxError",
          "evalue": "positional argument follows keyword argument (ipython-input-2800599942.py, line 3)",
          "traceback": [
            "\u001b[0;36m  File \u001b[0;32m\"/tmp/ipython-input-2800599942.py\"\u001b[0;36m, line \u001b[0;32m3\u001b[0m\n\u001b[0;31m    transforms.Normalize(mean=mean,std=std,False)\u001b[0m\n\u001b[0m                                                ^\u001b[0m\n\u001b[0;31mSyntaxError\u001b[0m\u001b[0;31m:\u001b[0m positional argument follows keyword argument\n"
          ]
        }
      ]
    },
    {
      "cell_type": "markdown",
      "source": [
        "# Baseline model: self-coded CNN"
      ],
      "metadata": {
        "id": "8jqZi3zlGNCM"
      }
    },
    {
      "cell_type": "code",
      "source": [
        "import numpy as np\n",
        "\n",
        "class baseCNN:\n",
        "  def __init__(self):\n",
        "    self.X = None\n",
        "\n",
        "    self.filters_1 = None # For different convolutional layers\n",
        "    self.filters_2 = None\n",
        "    self.bias_1 = None\n",
        "    self.bias_2 = None\n",
        "\n",
        "    self.bias_dense = None\n",
        "    self.weights_dense = None\n",
        "\n",
        "  def convolutinal_layer(image,filters,stride=1):\n",
        "    \"\"\"\n",
        "    Convolves image with filters.\n",
        "    params:\n",
        "      `image` - image as numpy array\n",
        "      `filter` - collection of filters as numpy array\n",
        "      `stride` - stride for filter window\n",
        "    \"\"\"\n",
        "    (image_H,image_W,image_channels) = image.shape\n",
        "    (num_filters, filter_H, filter_W, filter_channels) = filters.shape\n",
        "\n",
        "    out_H = (image_H - filter_H) // stride +1\n",
        "    out_W = (image_W - filter_W) // stride +1\n",
        "    feature_map = np.zeros((out_H,out_W,num_filters))\n",
        "\n",
        "    for y in range(0,image_H - filter_H + 1, stride):\n",
        "      for x in range(0,image_W - filter_W + 1, stride):\n",
        "        # Get filter slice of image\n",
        "        filter_slice = image[y:y+filter_H, x:x+filter_W, :]\n",
        "\n",
        "        for i, filter in enumerate(filters):\n",
        "          # Get matrix features for every channels\n",
        "          filter_matrix_channels = np.sum(filter * filter_slice)\n",
        "          # Save filter matrix features at coordinates position\n",
        "          feature_map[y // stride, x // stride, i] = filter_matrix_channels\n",
        "\n",
        "    return feature_map\n",
        "\n",
        "  def pooling_layer(features_maps,pooling_size=2,stride=2):\n",
        "      \"\"\"\n",
        "      Max pooling images\n",
        "\n",
        "      params:\n",
        "        `feature_maps` - maps of the features\n",
        "        `pooling_size` - size of the window\n",
        "        `stride` - stride of the window\n",
        "      \"\"\"\n",
        "      (feature_map_H,feature_map_W,num_filters) = features_maps.shape\n",
        "\n",
        "      out_H = (feature_map_H - pooling_size) // stride +1\n",
        "      out_W = (feature_map_W - pooling_size) // stride +1\n",
        "\n",
        "      pooling_map = np.zeros((out_H,out_W,num_filters))\n",
        "\n",
        "      for y in range(0,(feature_map_H - pooling_size)//stride +1, stride):\n",
        "        for x in range(0,(feature_map_W - pooling_size)//stride +1, stride):\n",
        "          for i in range(num_filters):\n",
        "            feature_window = features_maps[i][y:y+pooling_size,x:x+pooling_size]\n",
        "            pooling_map[y // stride,x // stride,i] = np.max(feature_window)\n",
        "\n",
        "      return pooling_map\n",
        "\n",
        "  def fully_connected_layer(pooling_map,weights,bias):\n",
        "      \"\"\"\n",
        "      Fully connected layer for weighted sum\n",
        "\n",
        "      params:\n",
        "        `pooling_map` - map of the features\n",
        "        `weights` - weights of the layer\n",
        "        `bias` - bias of the layer\n",
        "      \"\"\"\n",
        "      vector = pooling_map.flatten()\n",
        "      return np.dot(vector,weights) + bias\n",
        "\n",
        "  def softmax(x):\n",
        "    return np.exp(x) / np.sum(np.exp(x))\n",
        "\n",
        "  def cross_entropy(y_pred,y_true):\n",
        "    return - np.sum(y_true * np.log(y_pred))\n",
        "\n",
        "  def dense_backprop(dL_dz, x, weights, bias, learning_rate = 0.1):\n",
        "    \"\"\"\n",
        "    Backpropagation for dense layer\n",
        "    params:\n",
        "    `dL_dz` - derivative of the loss with respect to the output of the layer\n",
        "    `x` - input\n",
        "    `weights` - weights of the layer\n",
        "    `bias` - bias of the layer\n",
        "    `learning_rate` - learning rate for gradient descent\n",
        "    \"\"\"\n",
        "\n",
        "    dL_dw = dL_dz * x\n",
        "    dL_db = dL_dz\n",
        "    dL_dx = dL_dz * weights\n",
        "\n",
        "    weights = weights - learning_rate * dL_dw\n",
        "    bias = bias - learning_rate * dL_db\n",
        "\n",
        "    return weights, bias, dL_dx\n",
        "\n",
        "  def pooling_backprob(dl_dp,x,pooling_size=2,stride=2):\n",
        "        \"\"\"\n",
        "        Backpropagation for pooling layer\n",
        "        params:\n",
        "          `dl_dp` - derivative of the loss with respect to the output of the layer\n",
        "          `x` - input to pooling layer\n",
        "          `pooling_size` - size of the window\n",
        "          `stride` - stride of the window\n",
        "        \"\"\"\n",
        "        (in_H, in_W, in_C) = x.shape\n",
        "        dL_dx = np.zeros(x.shape)\n",
        "\n",
        "        for y in range(0, (in_H - pooling_size) // stride +1, stride):\n",
        "          for x in range(0, (in_W - pooling_size) // stride +1, stride):\n",
        "            for c in range(in_C):\n",
        "              feature_window = x[y:y+pooling_size, x:x+pooling_size, c]\n",
        "\n",
        "              max_index = np.argmax(feature_window)\n",
        "              (max_y,max_x) = max_index // pooling_size, max_index % pooling_size\n",
        "\n",
        "              # Fill previous masked points by derrivative\n",
        "              dL_dx[y + max_y, x + max_x, c] = dl_dp[y // stride, x // stride, c]\n",
        "\n",
        "        return dL_dx\n",
        "\n",
        "  def conv_backprob(dL_dconv,X,weights,bias,stride=1,learning_rate=0.1):\n",
        "    \"\"\"\n",
        "    Backpropagation for convolutional layer\n",
        "    params:\n",
        "      `dL_dconv` - derivative of the loss with respect to the output of the layer\n",
        "      `X` - input to convolutional layer\n",
        "      `weights` - weights of the layer (filters)\n",
        "      `bias` - bias of the layer\n",
        "      `stride` - stride of the window\n",
        "      `learning_rate` - learning rate for gradient descent\n",
        "    \"\"\"\n",
        "\n",
        "    (in_H, in_W, in_C) = X.shape\n",
        "    (num_filters, filt_H, filt_W, in_C) = weights.shape\n",
        "    dL_dx = np.zeros(X.shape)\n",
        "    dL_dW = np.zeros(weights.shape)\n",
        "    dL_db = np.zeros(num_filters)\n",
        "\n",
        "    for y in range(dL_dconv.shape[0]):\n",
        "      for x in range(dL_dconv.shape[1]):\n",
        "        for f in range(num_filters):\n",
        "            window = X[y:y+filt_H, x:x+filt_W, :]\n",
        "\n",
        "            # Get gradient from window and updating weights\n",
        "            dL_dW[f] += dL_dconv[y,x,f] * window\n",
        "            dL_db[f] += dL_dconv[y,x,f]\n",
        "\n",
        "            dL_dx[y:y+filt_H, x:x+filt_W, :] += dL_dconv[y,x,f] * np.flip(weights[f], axis=(0,1))\n",
        "\n",
        "    weights -= learning_rate * dL_dW\n",
        "    bias -= learning_rate * dL_db\n",
        "\n",
        "    return weights, bias, dL_dx\n",
        "\n",
        "  def forward_pass(self,X):\n",
        "    X = self.convolutinal_layer(X,self.filters_1)\n",
        "    self.X_1 = X # Save for backprob\n",
        "\n",
        "    X = self.pooling_layer(X)\n",
        "    self.X_2 = X\n",
        "\n",
        "    X = self.convolutinal_layer(X,self.filters_2)\n",
        "    self.X_3 = X\n",
        "\n",
        "    X = self.pooling_layer(X)\n",
        "    self.X_4 = X\n",
        "\n",
        "    X = self.fully_connected_layer(X,self.weights_dense,self.bias_dense)\n",
        "    self.X_5 = X\n",
        "\n",
        "    X = self.softmax(X)\n",
        "    self.X_6 = X\n",
        "\n",
        "    return X\n",
        "\n",
        "  def backprop(self, y_true):\n",
        "        dL_dz = self.X_6 - y_true\n",
        "        self.weights_dense, self.bias_dense, dL_dx = self.dense_backprop(dL_dz, self.X_5,\n",
        "                                                        self.weights_dense, self.bias_dense, learning_rate = 0.1)\n",
        "\n",
        "        dL_dx = self.pooling_backprob(dL_dx,self.X_4)\n",
        "        self.filters_2, self.bias_2, dL_dx = self.conv_backprob(dL_dx,self.X_3,\n",
        "                                              self.filters_2,self.bias_2,stride=1,learning_rate=0.1)\n",
        "\n",
        "        dL_dx = self.pooling_backprob(dL_dx,self.X_2)\n",
        "        self.filters_1, self.bias_1, dL_dx = self.conv_backprob(dL_dx,self.X_1,\n",
        "                                              self.filters_1,self.bias_1,stride=1,learning_rate=0.1)\n",
        "\n",
        "  def train(self,X,y, batch_size, epochs=1000):\n",
        "    epoch = 0\n",
        "    losses = []\n",
        "\n",
        "    while epoch <= epochs:\n",
        "      for batch in range(0,X.shape[0],batch_size):\n",
        "          X_batch = X[batch:batch+batch_size]\n",
        "          y_batch = y[batch:batch+batch_size]\n",
        "\n",
        "          y_pred = self.forward_pass(self,X_batch)\n",
        "\n",
        "          loss = self.cross_entropy(y_pred, y_batch)\n",
        "          losses.append(loss)\n",
        "\n",
        "          if(loss < 0.1):\n",
        "              return losses\n",
        "\n",
        "          self.backprop(self, y_batch)\n",
        "          epoch+=1\n",
        "\n",
        "    print(\"Train was comlete\")\n",
        "    return losses"
      ],
      "metadata": {
        "id": "OBZlBd3gHj1S"
      },
      "execution_count": 12,
      "outputs": []
    },
    {
      "cell_type": "code",
      "source": [],
      "metadata": {
        "id": "bab4zWLCNyI8"
      },
      "execution_count": null,
      "outputs": []
    }
  ]
}